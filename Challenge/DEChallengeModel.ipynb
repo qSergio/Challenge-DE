{
 "cells": [
  {
   "cell_type": "markdown",
   "id": "2f541c80-6066-407a-a29e-07b01dfdada9",
   "metadata": {},
   "source": [
    "# Model for employee turnover"
   ]
  },
  {
   "cell_type": "code",
   "execution_count": 1,
   "id": "461b5c21-cd8a-468d-93ca-c79372315235",
   "metadata": {},
   "outputs": [],
   "source": [
    "# Processing the data\n",
    "import json\n",
    "import pandas as pd\n",
    "import numpy as np\n",
    "from sklearn.model_selection import train_test_split\n",
    "from sklearn.preprocessing import OrdinalEncoder\n",
    "\n",
    "# Ensemble algorithm\n",
    "from sklearn.ensemble import RandomForestClassifier\n",
    "\n",
    "# Create a pipeline\n",
    "from sklearn.pipeline import Pipeline\n",
    "from sklearn.compose import ColumnTransformer\n",
    "\n",
    "# To measure performance\n",
    "from sklearn import metrics\n",
    "\n",
    "# Save the model\n",
    "import joblib"
   ]
  },
  {
   "cell_type": "markdown",
   "id": "c28c93de-ed8a-4aa9-ba48-782dc64c1058",
   "metadata": {},
   "source": [
    "## Train Model"
   ]
  },
  {
   "cell_type": "code",
   "execution_count": 2,
   "id": "6ba0949a-11c4-48ed-b306-1a293b12a09d",
   "metadata": {},
   "outputs": [],
   "source": [
    "hrdata = pd.read_csv('HR_Employee_Attrition.csv')"
   ]
  },
  {
   "cell_type": "code",
   "execution_count": 3,
   "id": "46babf17-7132-4fe2-8b32-bb87fe7d8a16",
   "metadata": {},
   "outputs": [],
   "source": [
    "train_hrdata = hrdata.drop(columns=['EmployeeCount','EmployeeNumber','JobLevel', \n",
    "                                    'Over18', 'StandardHours', 'TotalWorkingYears'])"
   ]
  },
  {
   "cell_type": "code",
   "execution_count": 4,
   "id": "820ab0de-4b4f-4e1c-8deb-0c4ee0906505",
   "metadata": {},
   "outputs": [],
   "source": [
    "train_hrdata['Attrition'] = train_hrdata.Attrition.map({'Yes':1,\n",
    "                                              'No':0})"
   ]
  },
  {
   "cell_type": "code",
   "execution_count": 5,
   "id": "1d38a705-849b-4b2f-b058-1baa3ff9c055",
   "metadata": {},
   "outputs": [],
   "source": [
    "categorical_attributes = ['BusinessTravel', 'OverTime',\n",
    "                          'Department', 'EducationField', \n",
    "                          'Gender','JobRole','MaritalStatus']"
   ]
  },
  {
   "cell_type": "code",
   "execution_count": 6,
   "id": "5988728e-a973-48f2-9748-b9a09e2b298b",
   "metadata": {},
   "outputs": [],
   "source": [
    "rf = RandomForestClassifier(max_depth=12, \n",
    "                            max_features=11, \n",
    "                            n_estimators=180, \n",
    "                            random_state=2021, \n",
    "                            n_jobs=-1)\n",
    "\n",
    "cat_pipe = ColumnTransformer([('ordinal_encoder', OrdinalEncoder(), categorical_attributes)],\n",
    "                             remainder='passthrough')\n",
    "\n",
    "pipe_model = Pipeline([\n",
    "      ('encoder', cat_pipe),\n",
    "      ('classification', rf )\n",
    "    ])"
   ]
  },
  {
   "cell_type": "code",
   "execution_count": 7,
   "id": "acd20036-6aa2-4f7b-bc7c-c80c3b17d606",
   "metadata": {},
   "outputs": [],
   "source": [
    "df1=  train_hrdata[train_hrdata.Attrition==0].sample(600).reset_index(drop=True)\n",
    "df2=  train_hrdata[train_hrdata.Attrition == 1]\n",
    "train_set = pd.concat([df1 , df2 , df2] , axis=0).reset_index(drop=True)"
   ]
  },
  {
   "cell_type": "code",
   "execution_count": 8,
   "id": "c1af66b4-3231-4746-abba-7b5e35e149d4",
   "metadata": {},
   "outputs": [
    {
     "name": "stdout",
     "output_type": "stream",
     "text": [
      "(1074, 28)\n",
      "(1074,)\n"
     ]
    }
   ],
   "source": [
    "x = train_set.drop('Attrition',1) ### Drop before having the target variable\n",
    "y = train_set['Attrition']\n",
    "\n",
    "print(x.shape)\n",
    "print(y.shape)"
   ]
  },
  {
   "cell_type": "code",
   "execution_count": 9,
   "id": "1fba9c30-531d-48be-9484-9e2677878e3a",
   "metadata": {},
   "outputs": [],
   "source": [
    "x_train, x_test, y_train, y_test = train_test_split(x,y, \n",
    "                                                    random_state=2021, \n",
    "                                                    test_size=0.2,\n",
    "                                                    stratify =y)"
   ]
  },
  {
   "cell_type": "code",
   "execution_count": 10,
   "id": "2b2c0c75-bc35-455b-a9ce-21e23e21561f",
   "metadata": {},
   "outputs": [
    {
     "name": "stdout",
     "output_type": "stream",
     "text": [
      "Accuracy Score of Random Forest Classifier is:  0.9116279069767442\n",
      "Recall Score of Random Forest Classifier Model is:  0.9157894736842105\n"
     ]
    }
   ],
   "source": [
    "pipe_model.fit(x_train, y_train)\n",
    "y_pred = pipe_model.predict(x_test)\n",
    "\n",
    "print('Accuracy Score of Random Forest Classifier is: ', metrics.accuracy_score(y_test, y_pred))\n",
    "print('Recall Score of Random Forest Classifier Model is: ', metrics.recall_score(y_test, y_pred))"
   ]
  },
  {
   "cell_type": "code",
   "execution_count": 11,
   "id": "58467407-5c34-4df4-b44e-dac222bf4e51",
   "metadata": {},
   "outputs": [
    {
     "name": "stdout",
     "output_type": "stream",
     "text": [
      "              precision    recall  f1-score   support\n",
      "\n",
      "           0       0.93      0.91      0.92       120\n",
      "           1       0.89      0.92      0.90        95\n",
      "\n",
      "    accuracy                           0.91       215\n",
      "   macro avg       0.91      0.91      0.91       215\n",
      "weighted avg       0.91      0.91      0.91       215\n",
      "\n"
     ]
    }
   ],
   "source": [
    "print(metrics.classification_report(y_test, y_pred))"
   ]
  },
  {
   "cell_type": "code",
   "execution_count": 12,
   "id": "077c05f2-a79e-4b88-a8df-c0259189998b",
   "metadata": {},
   "outputs": [],
   "source": [
    "val_cols = list(train_set.columns)"
   ]
  },
  {
   "cell_type": "code",
   "execution_count": 13,
   "id": "7287f13e-0fef-4572-b3cd-9b5e1e7e5a18",
   "metadata": {},
   "outputs": [],
   "source": [
    "val_cols.remove('Attrition')"
   ]
  },
  {
   "cell_type": "markdown",
   "id": "c2991f97-90a2-4f4d-b149-718dc479e209",
   "metadata": {},
   "source": [
    "## Generate Dataset with Turnover score column"
   ]
  },
  {
   "cell_type": "code",
   "execution_count": 14,
   "id": "33a15e59-f960-4bc1-89e2-173520c9e88b",
   "metadata": {},
   "outputs": [],
   "source": [
    "hrdata[\"turnover_score\"] = pipe_model.predict_proba(hrdata[val_cols])[:,1] # "
   ]
  },
  {
   "cell_type": "code",
   "execution_count": 30,
   "id": "1a350506-526b-4406-a195-64d17a245919",
   "metadata": {},
   "outputs": [
    {
     "data": {
      "text/html": [
       "<div>\n",
       "<style scoped>\n",
       "    .dataframe tbody tr th:only-of-type {\n",
       "        vertical-align: middle;\n",
       "    }\n",
       "\n",
       "    .dataframe tbody tr th {\n",
       "        vertical-align: top;\n",
       "    }\n",
       "\n",
       "    .dataframe thead th {\n",
       "        text-align: right;\n",
       "    }\n",
       "</style>\n",
       "<table border=\"1\" class=\"dataframe\">\n",
       "  <thead>\n",
       "    <tr style=\"text-align: right;\">\n",
       "      <th></th>\n",
       "      <th>EmployeeNumber</th>\n",
       "      <th>turnover_score</th>\n",
       "    </tr>\n",
       "  </thead>\n",
       "  <tbody>\n",
       "    <tr>\n",
       "      <th>0</th>\n",
       "      <td>1</td>\n",
       "      <td>0.829019</td>\n",
       "    </tr>\n",
       "    <tr>\n",
       "      <th>1</th>\n",
       "      <td>2</td>\n",
       "      <td>0.290120</td>\n",
       "    </tr>\n",
       "  </tbody>\n",
       "</table>\n",
       "</div>"
      ],
      "text/plain": [
       "   EmployeeNumber  turnover_score\n",
       "0               1        0.829019\n",
       "1               2        0.290120"
      ]
     },
     "execution_count": 30,
     "metadata": {},
     "output_type": "execute_result"
    }
   ],
   "source": [
    "hrdata[['EmployeeNumber','turnover_score']].head(2)"
   ]
  },
  {
   "cell_type": "markdown",
   "id": "11992e41-497a-4498-ac5e-3b5c88e7d767",
   "metadata": {},
   "source": [
    "## Save model"
   ]
  },
  {
   "cell_type": "code",
   "execution_count": 16,
   "id": "9651c21c-d4c6-4a7a-917d-32843d08061f",
   "metadata": {},
   "outputs": [
    {
     "data": {
      "text/plain": [
       "['clf.model']"
      ]
     },
     "execution_count": 16,
     "metadata": {},
     "output_type": "execute_result"
    }
   ],
   "source": [
    "joblib.dump(pipe_model, 'clf.model')"
   ]
  },
  {
   "cell_type": "markdown",
   "id": "3a1b90bf-3423-444c-b968-13439035be83",
   "metadata": {},
   "source": [
    "## Load Model"
   ]
  },
  {
   "cell_type": "code",
   "execution_count": 17,
   "id": "79dc12c3-c529-4124-8537-d221706a3ed2",
   "metadata": {},
   "outputs": [],
   "source": [
    "clf = joblib.load('clf.model')"
   ]
  },
  {
   "cell_type": "markdown",
   "id": "a1105b22-4530-4e86-ab7f-97a929c07178",
   "metadata": {},
   "source": [
    "### Create a record for testing"
   ]
  },
  {
   "cell_type": "code",
   "execution_count": 18,
   "id": "b4819ca8-e2ad-4b5d-8cd7-7d36a2f80e7d",
   "metadata": {},
   "outputs": [],
   "source": [
    "hrdata2 = pd.read_csv('HR_Employee_Attrition.csv')"
   ]
  },
  {
   "cell_type": "code",
   "execution_count": 19,
   "id": "59ffcfd2-e625-4d58-8bb7-5424c40e2821",
   "metadata": {},
   "outputs": [],
   "source": [
    "collaborator_rn = np.random.choice(range(1,hrdata2.shape[1]))"
   ]
  },
  {
   "cell_type": "code",
   "execution_count": 20,
   "id": "704f2443-2379-4dc6-bcb9-6a2744b990ec",
   "metadata": {},
   "outputs": [],
   "source": [
    "collaborator = pd.DataFrame(hrdata2.iloc[collaborator_rn,:]).T"
   ]
  },
  {
   "cell_type": "code",
   "execution_count": 21,
   "id": "78a8def5-6441-426f-9ec5-2f18fcd2dad9",
   "metadata": {},
   "outputs": [],
   "source": [
    "collaborator.drop(columns=['EmployeeCount', \n",
    "                           'Attrition',\n",
    "                           'JobLevel', \n",
    "                           'Over18',\n",
    "                           'StandardHours', \n",
    "                           'TotalWorkingYears'], inplace=True)"
   ]
  },
  {
   "cell_type": "markdown",
   "id": "eb7a95cd-233d-4e48-b72b-913ed75d9e3e",
   "metadata": {},
   "source": [
    "### Generate json example using original dataset"
   ]
  },
  {
   "cell_type": "code",
   "execution_count": 22,
   "id": "ff88cb59-86e8-4707-82f9-991e44345ad0",
   "metadata": {},
   "outputs": [
    {
     "data": {
      "text/plain": [
       "'[{\"Age\":39,\"BusinessTravel\":\"Travel_Rarely\",\"DailyRate\":895,\"Department\":\"Sales\",\"DistanceFromHome\":5,\"Education\":3,\"EducationField\":\"Technical Degree\",\"EmployeeNumber\":42,\"EnvironmentSatisfaction\":4,\"Gender\":\"Male\",\"HourlyRate\":56,\"JobInvolvement\":3,\"JobRole\":\"Sales Representative\",\"JobSatisfaction\":4,\"MaritalStatus\":\"Married\",\"MonthlyIncome\":2086,\"MonthlyRate\":3335,\"NumCompaniesWorked\":3,\"OverTime\":\"No\",\"PercentSalaryHike\":14,\"PerformanceRating\":3,\"RelationshipSatisfaction\":3,\"StockOptionLevel\":1,\"TrainingTimesLastYear\":6,\"WorkLifeBalance\":4,\"YearsAtCompany\":1,\"YearsInCurrentRole\":0,\"YearsSinceLastPromotion\":0,\"YearsWithCurrManager\":0}]'"
      ]
     },
     "execution_count": 22,
     "metadata": {},
     "output_type": "execute_result"
    }
   ],
   "source": [
    "collaborator.to_json(orient=\"records\")"
   ]
  },
  {
   "cell_type": "code",
   "execution_count": 23,
   "id": "63fcd760-39ae-4aca-ba28-ce2c8e62d0d8",
   "metadata": {},
   "outputs": [],
   "source": [
    "request = collaborator.to_json(orient=\"records\")"
   ]
  },
  {
   "cell_type": "markdown",
   "id": "02c9eebf-4f44-4986-84e4-4051fcb05f8d",
   "metadata": {},
   "source": [
    "### Create a new json example, not in the original dataset, for testing"
   ]
  },
  {
   "cell_type": "code",
   "execution_count": 24,
   "id": "f10445d9-6c18-489e-a6c4-77b16af0bf96",
   "metadata": {},
   "outputs": [],
   "source": [
    "example = {\"Age\":37,  \n",
    "           \"BusinessTravel\":\"Travel_Frequently\",  \n",
    "           \"DailyRate\":29, \n",
    "           \"Department\":\"Research & Development\", \n",
    "           \"DistanceFromHome\":12, \n",
    "           \"Education\":3,  \n",
    "           \"EducationField\":\"Life Sciences\",  \n",
    "           \"EmployeeNumber\":23333999,  \n",
    "           \"EnvironmentSatisfaction\":13,  \n",
    "           \"Gender\":\"Male\",  \n",
    "           \"HourlyRate\":61,  \n",
    "           \"JobInvolvement\":2,  \n",
    "           \"JobRole\":\"Research Scientist\",  \n",
    "           \"JobSatisfaction\":2,  \n",
    "           \"MaritalStatus\":\"Married\",  \n",
    "           \"MonthlyIncome\":5130,  \n",
    "           \"MonthlyRate\":24907, \n",
    "           \"NumCompaniesWorked\":1, \n",
    "           \"OverTime\":\"No\", \n",
    "           \"PercentSalaryHike\":23, \n",
    "           \"PerformanceRating\":4, \n",
    "           \"RelationshipSatisfaction\":4,  \n",
    "           \"StockOptionLevel\":1,  \n",
    "           \"TrainingTimesLastYear\":3,  \n",
    "           \"WorkLifeBalance\":3,  \n",
    "           \"YearsAtCompany\":10,  \n",
    "           \"YearsInCurrentRole\":1,  \n",
    "           \"YearsSinceLastPromotion\":1,  \n",
    "           \"YearsWithCurrManager\":1}"
   ]
  },
  {
   "cell_type": "code",
   "execution_count": 25,
   "id": "46d00697-cf1f-4e4e-972a-386a97541b40",
   "metadata": {},
   "outputs": [],
   "source": [
    "new_example = json.dumps(example)"
   ]
  },
  {
   "cell_type": "code",
   "execution_count": 26,
   "id": "e3c9f95b-b529-4233-96cf-ebc76a499292",
   "metadata": {},
   "outputs": [
    {
     "data": {
      "text/plain": [
       "'{\"Age\": 37, \"BusinessTravel\": \"Travel_Frequently\", \"DailyRate\": 29, \"Department\": \"Research & Development\", \"DistanceFromHome\": 12, \"Education\": 3, \"EducationField\": \"Life Sciences\", \"EmployeeNumber\": 23333999, \"EnvironmentSatisfaction\": 13, \"Gender\": \"Male\", \"HourlyRate\": 61, \"JobInvolvement\": 2, \"JobRole\": \"Research Scientist\", \"JobSatisfaction\": 2, \"MaritalStatus\": \"Married\", \"MonthlyIncome\": 5130, \"MonthlyRate\": 24907, \"NumCompaniesWorked\": 1, \"OverTime\": \"No\", \"PercentSalaryHike\": 23, \"PerformanceRating\": 4, \"RelationshipSatisfaction\": 4, \"StockOptionLevel\": 1, \"TrainingTimesLastYear\": 3, \"WorkLifeBalance\": 3, \"YearsAtCompany\": 10, \"YearsInCurrentRole\": 1, \"YearsSinceLastPromotion\": 1, \"YearsWithCurrManager\": 1}'"
      ]
     },
     "execution_count": 26,
     "metadata": {},
     "output_type": "execute_result"
    }
   ],
   "source": [
    "new_example"
   ]
  },
  {
   "cell_type": "markdown",
   "id": "303cf7dd-de92-4166-8620-21dc82e0e595",
   "metadata": {},
   "source": [
    "### Use the example from the dataset or the new example to test prediction"
   ]
  },
  {
   "cell_type": "code",
   "execution_count": 27,
   "id": "1e63f31d-6c6c-4e59-9c5e-bcbdb4ea87ca",
   "metadata": {},
   "outputs": [],
   "source": [
    "# Use an existing example in the dataset:\n",
    "#data = json.loads(request)\n",
    "\n",
    "# Use the new example:\n",
    "data = json.loads(new_example)"
   ]
  },
  {
   "cell_type": "code",
   "execution_count": 28,
   "id": "ede7d56d-c8ba-4693-97bd-93b6e6992fb7",
   "metadata": {},
   "outputs": [],
   "source": [
    "def hr_predict(request):\n",
    "    df = pd.DataFrame([request])\n",
    "    ID = df['EmployeeNumber'][0]\n",
    "    df.drop(columns=['EmployeeNumber'], inplace=True)\n",
    "    prediction = clf.predict_proba(df)\n",
    "    output = {'ID': ID , 'prediction': list(prediction[:,1])[0]}\n",
    "    return output"
   ]
  },
  {
   "cell_type": "code",
   "execution_count": 29,
   "id": "ea699d34-af1b-48e8-a39e-a1a0019b331d",
   "metadata": {},
   "outputs": [
    {
     "data": {
      "text/plain": [
       "{'ID': 23333999, 'prediction': 0.3669442821144328}"
      ]
     },
     "execution_count": 29,
     "metadata": {},
     "output_type": "execute_result"
    }
   ],
   "source": [
    "hr_predict(data)"
   ]
  },
  {
   "cell_type": "markdown",
   "id": "4b8088f0-d961-4461-9736-4b74fc1679c9",
   "metadata": {},
   "source": [
    "> This is the prediction output for a new input data corresponding to a new collaborator."
   ]
  }
 ],
 "metadata": {
  "kernelspec": {
   "display_name": "Python 3",
   "language": "python",
   "name": "python3"
  },
  "language_info": {
   "codemirror_mode": {
    "name": "ipython",
    "version": 3
   },
   "file_extension": ".py",
   "mimetype": "text/x-python",
   "name": "python",
   "nbconvert_exporter": "python",
   "pygments_lexer": "ipython3",
   "version": "3.9.5"
  }
 },
 "nbformat": 4,
 "nbformat_minor": 5
}
